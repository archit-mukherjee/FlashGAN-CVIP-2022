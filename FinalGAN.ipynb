{
  "nbformat": 4,
  "nbformat_minor": 0,
  "metadata": {
    "colab": {
      "name": "FinalGAN.ipynb",
      "provenance": [],
      "include_colab_link": true
    },
    "kernelspec": {
      "name": "python3",
      "display_name": "Python 3"
    },
    "language_info": {
      "name": "python"
    },
    "accelerator": "GPU"
  },
  "cells": [
    {
      "cell_type": "markdown",
      "metadata": {
        "id": "view-in-github",
        "colab_type": "text"
      },
      "source": [
        "<a href=\"https://colab.research.google.com/github/archit-mukherjee/FlashGAN-CVIP-2022/blob/main/FinalGAN.ipynb\" target=\"_parent\"><img src=\"https://colab.research.google.com/assets/colab-badge.svg\" alt=\"Open In Colab\"/></a>"
      ]
    },
    {
      "cell_type": "code",
      "execution_count": 1,
      "metadata": {
        "id": "UEjTz9sYTD8S"
      },
      "outputs": [],
      "source": [
        "from numpy import zeros\n",
        "from numpy import ones\n",
        "from numpy.random import randint\n",
        "import matplotlib.pyplot as plt\n",
        "import numpy as np\n",
        "import cv2\n",
        "import os\n",
        "import PIL\n",
        "import tensorflow as tf\n",
        "from tensorflow import keras\n",
        "from keras import layers\n",
        "from keras.models import Sequential\n",
        "from keras.initializers import RandomNormal\n",
        "from keras.models import Model\n",
        "from tensorflow.keras.layers import Input\n",
        "from keras.layers import Conv2D\n",
        "from keras.layers import Conv2DTranspose\n",
        "from keras.layers import LeakyReLU\n",
        "from keras.layers import Activation\n",
        "from keras.layers import Concatenate\n",
        "from keras.layers import Dropout\n",
        "from keras.layers import BatchNormalization\n",
        "from matplotlib import pyplot as plt\n",
        "from tensorflow.keras.utils import plot_model"
      ]
    },
    {
      "cell_type": "code",
      "source": [
        "#from keras.optimizers import adam\n",
        "from tensorflow.keras.optimizers import Adam"
      ],
      "metadata": {
        "id": "03hRAjzT1xhq"
      },
      "execution_count": 2,
      "outputs": []
    },
    {
      "cell_type": "code",
      "source": [
        "from google.colab import drive\n",
        "drive.mount('/content/gdrive')\n"
      ],
      "metadata": {
        "colab": {
          "base_uri": "https://localhost:8080/",
          "height": 345
        },
        "id": "SK1IHIZdtJJ-",
        "outputId": "57032660-a00b-49b8-a7d9-047c14d0e719"
      },
      "execution_count": 3,
      "outputs": [
        {
          "output_type": "error",
          "ename": "MessageError",
          "evalue": "ignored",
          "traceback": [
            "\u001b[0;31m---------------------------------------------------------------------------\u001b[0m",
            "\u001b[0;31mMessageError\u001b[0m                              Traceback (most recent call last)",
            "\u001b[0;32m<ipython-input-3-4996ee3d8d09>\u001b[0m in \u001b[0;36m<module>\u001b[0;34m\u001b[0m\n\u001b[1;32m      1\u001b[0m \u001b[0;32mfrom\u001b[0m \u001b[0mgoogle\u001b[0m\u001b[0;34m.\u001b[0m\u001b[0mcolab\u001b[0m \u001b[0;32mimport\u001b[0m \u001b[0mdrive\u001b[0m\u001b[0;34m\u001b[0m\u001b[0;34m\u001b[0m\u001b[0m\n\u001b[0;32m----> 2\u001b[0;31m \u001b[0mdrive\u001b[0m\u001b[0;34m.\u001b[0m\u001b[0mmount\u001b[0m\u001b[0;34m(\u001b[0m\u001b[0;34m'/content/gdrive'\u001b[0m\u001b[0;34m)\u001b[0m\u001b[0;34m\u001b[0m\u001b[0;34m\u001b[0m\u001b[0m\n\u001b[0m",
            "\u001b[0;32m/usr/local/lib/python3.8/dist-packages/google/colab/drive.py\u001b[0m in \u001b[0;36mmount\u001b[0;34m(mountpoint, force_remount, timeout_ms, readonly)\u001b[0m\n\u001b[1;32m     98\u001b[0m \u001b[0;32mdef\u001b[0m \u001b[0mmount\u001b[0m\u001b[0;34m(\u001b[0m\u001b[0mmountpoint\u001b[0m\u001b[0;34m,\u001b[0m \u001b[0mforce_remount\u001b[0m\u001b[0;34m=\u001b[0m\u001b[0;32mFalse\u001b[0m\u001b[0;34m,\u001b[0m \u001b[0mtimeout_ms\u001b[0m\u001b[0;34m=\u001b[0m\u001b[0;36m120000\u001b[0m\u001b[0;34m,\u001b[0m \u001b[0mreadonly\u001b[0m\u001b[0;34m=\u001b[0m\u001b[0;32mFalse\u001b[0m\u001b[0;34m)\u001b[0m\u001b[0;34m:\u001b[0m\u001b[0;34m\u001b[0m\u001b[0;34m\u001b[0m\u001b[0m\n\u001b[1;32m     99\u001b[0m   \u001b[0;34m\"\"\"Mount your Google Drive at the specified mountpoint path.\"\"\"\u001b[0m\u001b[0;34m\u001b[0m\u001b[0;34m\u001b[0m\u001b[0m\n\u001b[0;32m--> 100\u001b[0;31m   return _mount(\n\u001b[0m\u001b[1;32m    101\u001b[0m       \u001b[0mmountpoint\u001b[0m\u001b[0;34m,\u001b[0m\u001b[0;34m\u001b[0m\u001b[0;34m\u001b[0m\u001b[0m\n\u001b[1;32m    102\u001b[0m       \u001b[0mforce_remount\u001b[0m\u001b[0;34m=\u001b[0m\u001b[0mforce_remount\u001b[0m\u001b[0;34m,\u001b[0m\u001b[0;34m\u001b[0m\u001b[0;34m\u001b[0m\u001b[0m\n",
            "\u001b[0;32m/usr/local/lib/python3.8/dist-packages/google/colab/drive.py\u001b[0m in \u001b[0;36m_mount\u001b[0;34m(mountpoint, force_remount, timeout_ms, ephemeral, readonly)\u001b[0m\n\u001b[1;32m    121\u001b[0m       'TBE_EPHEM_CREDS_ADDR'] if ephemeral else _os.environ['TBE_CREDS_ADDR']\n\u001b[1;32m    122\u001b[0m   \u001b[0;32mif\u001b[0m \u001b[0mephemeral\u001b[0m\u001b[0;34m:\u001b[0m\u001b[0;34m\u001b[0m\u001b[0;34m\u001b[0m\u001b[0m\n\u001b[0;32m--> 123\u001b[0;31m     _message.blocking_request(\n\u001b[0m\u001b[1;32m    124\u001b[0m         'request_auth', request={'authType': 'dfs_ephemeral'}, timeout_sec=None)\n\u001b[1;32m    125\u001b[0m \u001b[0;34m\u001b[0m\u001b[0m\n",
            "\u001b[0;32m/usr/local/lib/python3.8/dist-packages/google/colab/_message.py\u001b[0m in \u001b[0;36mblocking_request\u001b[0;34m(request_type, request, timeout_sec, parent)\u001b[0m\n\u001b[1;32m    169\u001b[0m   request_id = send_request(\n\u001b[1;32m    170\u001b[0m       request_type, request, parent=parent, expect_reply=True)\n\u001b[0;32m--> 171\u001b[0;31m   \u001b[0;32mreturn\u001b[0m \u001b[0mread_reply_from_input\u001b[0m\u001b[0;34m(\u001b[0m\u001b[0mrequest_id\u001b[0m\u001b[0;34m,\u001b[0m \u001b[0mtimeout_sec\u001b[0m\u001b[0;34m)\u001b[0m\u001b[0;34m\u001b[0m\u001b[0;34m\u001b[0m\u001b[0m\n\u001b[0m",
            "\u001b[0;32m/usr/local/lib/python3.8/dist-packages/google/colab/_message.py\u001b[0m in \u001b[0;36mread_reply_from_input\u001b[0;34m(message_id, timeout_sec)\u001b[0m\n\u001b[1;32m    100\u001b[0m         reply.get('colab_msg_id') == message_id):\n\u001b[1;32m    101\u001b[0m       \u001b[0;32mif\u001b[0m \u001b[0;34m'error'\u001b[0m \u001b[0;32min\u001b[0m \u001b[0mreply\u001b[0m\u001b[0;34m:\u001b[0m\u001b[0;34m\u001b[0m\u001b[0;34m\u001b[0m\u001b[0m\n\u001b[0;32m--> 102\u001b[0;31m         \u001b[0;32mraise\u001b[0m \u001b[0mMessageError\u001b[0m\u001b[0;34m(\u001b[0m\u001b[0mreply\u001b[0m\u001b[0;34m[\u001b[0m\u001b[0;34m'error'\u001b[0m\u001b[0;34m]\u001b[0m\u001b[0;34m)\u001b[0m\u001b[0;34m\u001b[0m\u001b[0;34m\u001b[0m\u001b[0m\n\u001b[0m\u001b[1;32m    103\u001b[0m       \u001b[0;32mreturn\u001b[0m \u001b[0mreply\u001b[0m\u001b[0;34m.\u001b[0m\u001b[0mget\u001b[0m\u001b[0;34m(\u001b[0m\u001b[0;34m'data'\u001b[0m\u001b[0;34m,\u001b[0m \u001b[0;32mNone\u001b[0m\u001b[0;34m)\u001b[0m\u001b[0;34m\u001b[0m\u001b[0;34m\u001b[0m\u001b[0m\n\u001b[1;32m    104\u001b[0m \u001b[0;34m\u001b[0m\u001b[0m\n",
            "\u001b[0;31mMessageError\u001b[0m: Error: credential propagation was unsuccessful"
          ]
        }
      ]
    },
    {
      "cell_type": "code",
      "source": [
        "\n",
        "def define_discriminator(image_shape):\n",
        "    \n",
        "\t# weight initialization\n",
        "\tinit = RandomNormal(stddev=0.02) #As described in the original paper\n",
        "    \n",
        "\t# source image input\n",
        "\tin_src_image = Input(shape=image_shape)  #Image we want to convert to another image\n",
        "\t# target image input\n",
        "\tin_target_image = Input(shape=image_shape)  #Image we want to generate after training. \n",
        "    \n",
        "\t# concatenate images, channel-wise\n",
        "\tmerged = Concatenate()([in_src_image, in_target_image])\n",
        "    \n",
        "\t# C64: 4x4 kernel Stride 2x2\n",
        "\td = Conv2D(64, (4,4), strides=(2,2), padding='same', kernel_initializer=init)(merged)\n",
        "\td = LeakyReLU(alpha=0.2)(d)\n",
        "\t# C128: 4x4 kernel Stride 2x2\n",
        "\td = Conv2D(128, (4,4), strides=(2,2), padding='same', kernel_initializer=init)(d)\n",
        "\td = BatchNormalization()(d)\n",
        "\td = LeakyReLU(alpha=0.2)(d)\n",
        "\t# C256: 4x4 kernel Stride 2x2\n",
        "\td = Conv2D(256, (4,4), strides=(2,2), padding='same', kernel_initializer=init)(d)\n",
        "\td = BatchNormalization()(d)\n",
        "\td = LeakyReLU(alpha=0.2)(d)\n",
        "\t# C512: 4x4 kernel Stride 2x2 \n",
        "    # Not in the original paper. Comment this block if you want.\n",
        "\td = Conv2D(512, (4,4), strides=(2,2), padding='same', kernel_initializer=init)(d)\n",
        "\td = BatchNormalization()(d)\n",
        "\td = LeakyReLU(alpha=0.2)(d)\n",
        "\t# second last output layer : 4x4 kernel but Stride 1x1\n",
        "\td = Conv2D(512, (4,4), padding='same', kernel_initializer=init)(d)\n",
        "\td = BatchNormalization()(d)\n",
        "\td = LeakyReLU(alpha=0.2)(d)\n",
        "\t# patch output\n",
        "\td = Conv2D(1, (4,4), padding='same', kernel_initializer=init)(d)\n",
        "\tpatch_out = Activation('sigmoid')(d)\n",
        "\t# define model\n",
        "\tmodel = Model([in_src_image, in_target_image], patch_out)\n",
        "\t# compile model\n",
        "    #The model is trained with a batch size of one image and Adam opt. \n",
        "    #with a small learning rate and 0.5 beta. \n",
        "    #The loss for the discriminator is weighted by 50% for each model update.\n",
        "    \n",
        "\topt = Adam(lr=0.0002, beta_1=0.5)\n",
        "\tmodel.compile(loss='binary_crossentropy', optimizer=opt, loss_weights=[0.5])\n",
        "\treturn model\n"
      ],
      "metadata": {
        "id": "jrL3epqN0QH3"
      },
      "execution_count": 4,
      "outputs": []
    },
    {
      "cell_type": "code",
      "source": [
        "def define_encoder_block(layer_in, n_filters, batchnorm=True):\n",
        "\t# weight initialization\n",
        "\tinit = RandomNormal(stddev=0.02)\n",
        "\t# add downsampling layer\n",
        "\tg = Conv2D(n_filters, (4,4), strides=(2,2), padding='same', kernel_initializer=init)(layer_in)\n",
        "\t# conditionally add batch normalization\n",
        "\tif batchnorm:\n",
        "\t\tg = BatchNormalization()(g, training=True)\n",
        "\t# leaky relu activation\n",
        "\tg = LeakyReLU(alpha=0.2)(g)\n",
        "\treturn g"
      ],
      "metadata": {
        "id": "aBXsW9272DPK"
      },
      "execution_count": 5,
      "outputs": []
    },
    {
      "cell_type": "code",
      "source": [
        "def decoder_block(layer_in, skip_in, n_filters, dropout=True):\n",
        "\t# weight initialization\n",
        "\tinit = RandomNormal(stddev=0.02)\n",
        "\t# add upsampling layer\n",
        "\tg = Conv2DTranspose(n_filters, (4,4), strides=(2,2), padding='same', kernel_initializer=init)(layer_in)\n",
        "\t# add batch normalization\n",
        "\tg = BatchNormalization()(g, training=True)\n",
        "\t# conditionally add dropout\n",
        "\tif dropout:\n",
        "\t\tg = Dropout(0.5)(g, training=True)\n",
        "\t# merge with skip connection\n",
        "\tg = Concatenate()([g, skip_in])\n",
        "\t# relu activation\n",
        "\tg = Activation('relu')(g)\n",
        "\treturn g\n"
      ],
      "metadata": {
        "id": "qIs1RN0C2njg"
      },
      "execution_count": 6,
      "outputs": []
    },
    {
      "cell_type": "code",
      "source": [
        "def define_generator(image_shape=(256,256,3)):\n",
        "\t# weight initialization\n",
        "\tinit = RandomNormal(stddev=0.02)\n",
        "\t# image input\n",
        "\tin_image = Input(shape=image_shape)\n",
        "\t# encoder model: C64-C128-C256-C512-C512-C512-C512-C512\n",
        "\te1 = define_encoder_block(in_image, 64, batchnorm=False)\n",
        "\te2 = define_encoder_block(e1, 128)\n",
        "\te3 = define_encoder_block(e2, 256)\n",
        "\te4 = define_encoder_block(e3, 512)\n",
        "\te5 = define_encoder_block(e4, 512)\n",
        "\te6 = define_encoder_block(e5, 512)\n",
        "\te7 = define_encoder_block(e6, 512)\n",
        "\t# bottleneck, no batch norm and relu\n",
        "\tb = Conv2D(512, (4,4), strides=(2,2), padding='same', kernel_initializer=init)(e7)\n",
        "\tb = Activation('relu')(b)\n",
        "\t# decoder model: CD512-CD512-CD512-C512-C256-C128-C64\n",
        "\td1 = decoder_block(b, e7, 512)\n",
        "\td2 = decoder_block(d1, e6, 512)\n",
        "\td3 = decoder_block(d2, e5, 512)\n",
        "\td4 = decoder_block(d3, e4, 512, dropout=False)\n",
        "\td5 = decoder_block(d4, e3, 256, dropout=False)\n",
        "\td6 = decoder_block(d5, e2, 128, dropout=False)\n",
        "\td7 = decoder_block(d6, e1, 64, dropout=False)\n",
        "\t# output\n",
        "\tg = Conv2DTranspose(image_shape[2], (4,4), strides=(2,2), padding='same', kernel_initializer=init)(d7) #Modified \n",
        "\tout_image = Activation('tanh')(g)  #Generates images in the range -1 to 1. So change inputs also to -1 to 1\n",
        "\t# define model\n",
        "\tmodel = Model(in_image, out_image)\n",
        "\treturn model"
      ],
      "metadata": {
        "id": "1ZKWF3P72wdm"
      },
      "execution_count": 7,
      "outputs": []
    },
    {
      "cell_type": "code",
      "source": [
        "def define_gan(g_model, d_model, image_shape):\n",
        "\t# make weights in the discriminator not trainable\n",
        "\tfor layer in d_model.layers:\n",
        "\t\tif not isinstance(layer, BatchNormalization):\n",
        "\t\t\tlayer.trainable = False       #Descriminator layers set to untrainable in the combined GAN but \n",
        "                                                #standalone descriminator will be trainable.\n",
        "            \n",
        "\t# define the source image\n",
        "\tin_src = Input(shape=image_shape)\n",
        "\t# suppy the image as input to the generator \n",
        "\tgen_out = g_model(in_src)\n",
        "\t# supply the input image and generated image as inputs to the discriminator\n",
        "\tdis_out = d_model([in_src, gen_out])\n",
        "\t# src image as input, generated image and disc. output as outputs\n",
        "\tmodel = Model(in_src, [dis_out, gen_out])\n",
        "\t# compile model\n",
        "\topt = Adam(lr=0.0002, beta_1=0.5)\n",
        "    \n",
        "    #Total loss is the weighted sum of adversarial loss (BCE) and L1 loss (MAE)\n",
        "    #Authors suggested weighting BCE vs L1 as 1:100.\n",
        "\tmodel.compile(loss=['binary_crossentropy', 'mae'], \n",
        "               optimizer=opt, loss_weights=[1,100])\n",
        "\treturn model"
      ],
      "metadata": {
        "id": "wHS433AX3LFB"
      },
      "execution_count": 8,
      "outputs": []
    },
    {
      "cell_type": "code",
      "source": [
        "def generate_real_samples(dataset, n_samples, patch_shape):\n",
        "\t# unpack dataset\n",
        "\ttrainA, trainB = dataset\n",
        "\t# choose random instances\n",
        "\tix = randint(0, trainA.shape[0], n_samples)\n",
        "\t# retrieve selected images\n",
        "\tX1, X2 = trainA[ix], trainB[ix]\n",
        "\t# generate 'real' class labels (1)\n",
        "\ty = ones((n_samples, patch_shape, patch_shape, 1))\n",
        "\treturn [X1, X2], y"
      ],
      "metadata": {
        "id": "eCNxnfcZ3s8-"
      },
      "execution_count": 9,
      "outputs": []
    },
    {
      "cell_type": "code",
      "source": [
        "def generate_fake_samples(g_model, samples, patch_shape):\n",
        "\t# generate fake instance\n",
        "\tX = g_model.predict(samples)\n",
        "\t# create 'fake' class labels (0)\n",
        "\ty = zeros((len(X), patch_shape, patch_shape, 1))\n",
        "\treturn X, y"
      ],
      "metadata": {
        "id": "wmrlGp2g3yjr"
      },
      "execution_count": 10,
      "outputs": []
    },
    {
      "cell_type": "code",
      "source": [
        "def summarize_performance(step, g_model, dataset, n_samples=3):\n",
        "\t# select a sample of input images\n",
        "\t[X_realA, X_realB], _ = generate_real_samples(dataset, n_samples, 1)\n",
        "\t# generate a batch of fake samples\n",
        "\tX_fakeB, _ = generate_fake_samples(g_model, X_realA, 1)\n",
        "\t# scale all pixels from [-1,1] to [0,1]\n",
        "\tX_realA = (X_realA + 1) / 2.0\n",
        "\tX_realB = (X_realB + 1) / 2.0\n",
        "\tX_fakeB = (X_fakeB + 1) / 2.0\n",
        "\t# plot real source images\n",
        "\tfor i in range(n_samples):\n",
        "\t\tplt.subplot(3, n_samples, 1 + i)\n",
        "\t\tplt.axis('off')\n",
        "\t\tplt.imshow(X_realA[i])\n",
        "\t# plot generated target image\n",
        "\tfor i in range(n_samples):\n",
        "\t\tplt.subplot(3, n_samples, 1 + n_samples + i)\n",
        "\t\tplt.axis('off')\n",
        "\t\tplt.imshow(X_fakeB[i])\n",
        "\t# plot real target image\n",
        "\tfor i in range(n_samples):\n",
        "\t\tplt.subplot(3, n_samples, 1 + n_samples*2 + i)\n",
        "\t\tplt.axis('off')\n",
        "\t\tplt.imshow(X_realB[i])\n",
        "\t# save plot to file\n",
        "\tfilename1 = 'plot_%06d.png' % (step+1)\n",
        "\tplt.savefig(filename1)\n",
        "\tplt.close()\n",
        "\t# save the generator model\n",
        "\tfilename2 = 'model_%06d.h5' % (step+1)\n",
        "\tg_model.save(filename2)\n",
        "\tprint('>Saved: %s and %s' % (filename1, filename2))\n"
      ],
      "metadata": {
        "id": "UhkvGlBh35pY"
      },
      "execution_count": 11,
      "outputs": []
    },
    {
      "cell_type": "code",
      "source": [
        "def train(d_model, g_model, gan_model, dataset, n_epochs=100, n_batch=1):\n",
        "\t# determine the output square shape of the discriminator\n",
        "\tn_patch = d_model.output_shape[1]\n",
        "\t# unpack dataset\n",
        "\ttrainA, trainB = dataset\n",
        "\t# calculate the number of batches per training epoch\n",
        "\tbat_per_epo = int(len(trainA) / n_batch)\n",
        "\t# calculate the number of training iterations\n",
        "\tn_steps = bat_per_epo * n_epochs\n",
        "\t# manually enumerate epochs\n",
        "\tfor i in range(n_steps):\n",
        "\t\t# select a batch of real samples\n",
        "\t\t[X_realA, X_realB], y_real = generate_real_samples(dataset, n_batch, n_patch)\n",
        "\t\t# generate a batch of fake samples\n",
        "\t\tX_fakeB, y_fake = generate_fake_samples(g_model, X_realA, n_patch)\n",
        "\t\t# update discriminator for real samples\n",
        "\t\td_loss1 = d_model.train_on_batch([X_realA, X_realB], y_real)\n",
        "\t\t# update discriminator for generated samples\n",
        "\t\td_loss2 = d_model.train_on_batch([X_realA, X_fakeB], y_fake)\n",
        "\t\t# update the generator\n",
        "\t\tg_loss, _, _ = gan_model.train_on_batch(X_realA, [y_real, X_realB])\n",
        "\t\t# summarize performance\n",
        "\t\tprint('>%d, d1[%.3f] d2[%.3f] g[%.3f]' % (i+1, d_loss1, d_loss2, g_loss))\n",
        "\t\t# summarize model performance\n",
        "\t\tif (i+1) % (bat_per_epo * 10) == 0:\n",
        "\t\t\tsummarize_performance(i, g_model, dataset)"
      ],
      "metadata": {
        "id": "6iLGlgPb4KpB"
      },
      "execution_count": 12,
      "outputs": []
    },
    {
      "cell_type": "markdown",
      "source": [
        "#**IMPLEMENTATION**"
      ],
      "metadata": {
        "id": "mbNhJuOpDaBX"
      }
    },
    {
      "cell_type": "code",
      "source": [
        "\n",
        "from os import listdir\n",
        "from numpy import asarray, load\n",
        "from numpy import vstack\n",
        "from tensorflow.keras.utils import img_to_array\n",
        "from tensorflow.keras.utils import load_img\n",
        "from numpy import savez_compressed\n",
        "from matplotlib import pyplot\n",
        "import numpy as np\n"
      ],
      "metadata": {
        "id": "tYyulyPWDVF7"
      },
      "execution_count": 13,
      "outputs": []
    },
    {
      "cell_type": "code",
      "source": [
        "def load_images(path, size=(256,512)):\n",
        "\tsrc_list, tar_list = list(), list()\n",
        "\t# enumerate filenames in directory, assume all are images\n",
        "\tfor filename in listdir(path):\n",
        "\t\t# load and resize the image\n",
        "\t\tpixels = load_img(path + filename, target_size=size)\n",
        "\t\t# convert to numpy array\n",
        "\t\tpixels = img_to_array(pixels)\n",
        "\t\t# split into satellite and map\n",
        "\t\tsat_img, map_img = pixels[:, :256], pixels[:, 256:]\n",
        "\t\tsrc_list.append(sat_img)\n",
        "\t\ttar_list.append(map_img)\n",
        "\treturn [asarray(src_list), asarray(tar_list)]"
      ],
      "metadata": {
        "id": "h6bYo7llJI0o"
      },
      "execution_count": 14,
      "outputs": []
    },
    {
      "cell_type": "code",
      "source": [
        "def load_images_src(path_amb, size=(256,256)):\n",
        "  \n",
        "  src_list = list()\n",
        "\t# enumerate filenames in directory, assume all are images\n",
        "  for filename in listdir(path_amb):\n",
        "\t\t# load and resize the image\n",
        "    pixels = load_img(path_amb + filename, target_size=size)\n",
        "\t\t# convert to numpy array\n",
        "    pixels = img_to_array(pixels)\n",
        "\t\t# split into satellite and map\n",
        "    src_list.append(pixels)\n",
        "  return asarray(src_list)\n",
        "\n",
        "def load_images_tar(path_fls, size=(256,256)):\n",
        "  \n",
        "  tar_list = list()\n",
        "\t# enumerate filenames in directory, assume all are images\n",
        "  for filename in listdir(path_fls):\n",
        "\t\t# load and resize the image\n",
        "    pixels = load_img(path_fls + filename, target_size=size)\n",
        "\t\t# convert to numpy array\n",
        "    pixels = img_to_array(pixels)\n",
        "\t\t# split into satellite and map\n",
        "    tar_list.append(pixels)\n",
        "  return asarray(tar_list)"
      ],
      "metadata": {
        "id": "jkHOncguy_ng"
      },
      "execution_count": 48,
      "outputs": []
    },
    {
      "cell_type": "code",
      "source": [
        "# dataset path\n",
        "#path = '/content/gdrive/MyDrive/Concat/'\n",
        "path = '/content/Images/'\n",
        "path_amb = path + 'Ambient/'\n",
        "path_fls = path + 'Flash/'\n",
        "# load dataset\n",
        "src_images = load_images_src(path_fls) \n",
        "tar_images = load_images_tar(path_amb)\n",
        "print('Loaded: ', src_images.shape, tar_images.shape)"
      ],
      "metadata": {
        "colab": {
          "base_uri": "https://localhost:8080/"
        },
        "id": "RjTgdyHwJZGI",
        "outputId": "10c65213-6f2c-45f4-9706-d1eb9d873055"
      },
      "execution_count": 69,
      "outputs": [
        {
          "output_type": "stream",
          "name": "stdout",
          "text": [
            "Loaded:  (2, 256, 256, 3) (2, 256, 256, 3)\n"
          ]
        }
      ]
    },
    {
      "cell_type": "code",
      "source": [
        "\n",
        "n_samples = 2\n",
        "for i in range(n_samples):\n",
        "\tpyplot.subplot(2, n_samples, 1 + i)\n",
        "\tpyplot.axis('off')\n",
        "\tpyplot.imshow(src_images[i].astype('uint8'))\n",
        "# plot target image\n",
        "for i in range(n_samples):\n",
        "\tpyplot.subplot(2, n_samples, 1 + n_samples + i)\n",
        "\tpyplot.axis('off')\n",
        "\tpyplot.imshow(tar_images[i].astype('uint8'))\n",
        "pyplot.show()"
      ],
      "metadata": {
        "colab": {
          "base_uri": "https://localhost:8080/",
          "height": 248
        },
        "id": "_CvJk_bmJ0Zm",
        "outputId": "359fc6a2-bf14-442b-863f-e6e06481c79d"
      },
      "execution_count": 70,
      "outputs": [
        {
          "output_type": "display_data",
          "data": {
            "text/plain": [
              "<Figure size 432x288 with 4 Axes>"
            ],
            "image/png": "[encoded data removed]"
          },
          "metadata": {
            "needs_background": "light"
          }
        }
      ]
    },
    {
      "cell_type": "code",
      "source": [
        "from keras.layers import MaxPooling2D,Conv2D,Input,Add,MaxPool2D,Flatten,AveragePooling2D,Dense,BatchNormalization,ZeroPadding2D,Activation,Concatenate,UpSampling2D\n",
        "from keras.models import Model\n"
      ],
      "metadata": {
        "id": "hI64AucGMtpM"
      },
      "execution_count": 71,
      "outputs": []
    },
    {
      "cell_type": "code",
      "source": [
        "import numpy as np\n",
        "from matplotlib import pyplot as plt\n",
        "from tqdm import tqdm\n",
        "import keras\n",
        "from keras import backend as K\n",
        "from keras import activations, initializers, regularizers, constraints, metrics\n",
        "from keras.datasets import cifar10\n",
        "from keras.preprocessing.image import ImageDataGenerator\n",
        "from keras.models import Sequential, Model\n",
        "from keras.layers import (Dense, Dropout, Activation, Flatten, Reshape, Layer,\n",
        "                          BatchNormalization, LocallyConnected2D,\n",
        "                          ZeroPadding2D, Conv2D, MaxPooling2D, Conv2DTranspose,\n",
        "                          GaussianNoise, UpSampling2D, Input)\n",
        "#from tensorflow.keras.utils import conv_utils, multi_gpu_model\n",
        "from keras.layers import Lambda\n",
        "#from keras.engine import Layer, InputSpec\n",
        "#from keras.legacy import interfaces"
      ],
      "metadata": {
        "id": "uxsVKCzANGtB"
      },
      "execution_count": 72,
      "outputs": []
    },
    {
      "cell_type": "code",
      "source": [
        "# import define_discriminator, define_generator, define_gan, train\n",
        "# define input shape based on the loaded dataset\n",
        "image_shape = src_images.shape[1:]\n",
        "# define the models\n",
        "d_model = define_discriminator(image_shape)\n",
        "g_model = define_generator(image_shape)\n",
        "# define the composite model\n",
        "gan_model = define_gan(g_model, d_model, image_shape)"
      ],
      "metadata": {
        "colab": {
          "base_uri": "https://localhost:8080/"
        },
        "id": "LHT3-rK-KSvb",
        "outputId": "06fcd860-060e-4dca-c224-48ab2dd9c1b9"
      },
      "execution_count": 73,
      "outputs": [
        {
          "output_type": "stream",
          "name": "stderr",
          "text": [
            "/usr/local/lib/python3.8/dist-packages/keras/initializers/initializers_v2.py:120: UserWarning: The initializer RandomNormal is unseeded and being called multiple times, which will return identical values  each time (even if the initializer is unseeded). Please update your code to provide a seed to the initializer, or avoid using the same initalizer instance more than once.\n",
            "  warnings.warn(\n",
            "WARNING:absl:`lr` is deprecated, please use `learning_rate` instead, or use the legacy optimizer, e.g.,tf.keras.optimizers.legacy.Adam.\n",
            "WARNING:absl:`lr` is deprecated, please use `learning_rate` instead, or use the legacy optimizer, e.g.,tf.keras.optimizers.legacy.Adam.\n"
          ]
        }
      ]
    },
    {
      "cell_type": "code",
      "source": [
        "data = [src_images, tar_images]\n"
      ],
      "metadata": {
        "id": "wDFDHyktW1V0"
      },
      "execution_count": 74,
      "outputs": []
    },
    {
      "cell_type": "code",
      "source": [
        "def preprocess_data(data):\n",
        "\t# load compressed arrays\n",
        "\t# unpack arrays\n",
        "\tX1, X2 = data[0], data[1]\n",
        "\t# scale from [0,255] to [-1,1]\n",
        "\tX1 = (X1 - 127.5) / 127.5\n",
        "\tX2 = (X2 - 127.5) / 127.5\n",
        "\treturn [X1, X2]"
      ],
      "metadata": {
        "id": "-6gBslDvW7DV"
      },
      "execution_count": 75,
      "outputs": []
    },
    {
      "cell_type": "code",
      "source": [
        "dataset = preprocess_data(data)\n"
      ],
      "metadata": {
        "id": "kxQ5FziNXAMU"
      },
      "execution_count": 76,
      "outputs": []
    },
    {
      "cell_type": "code",
      "source": [
        "from datetime import datetime \n",
        "start1 = datetime.now() \n",
        "\n",
        "train(d_model, g_model, gan_model, dataset, n_epochs=50, n_batch=1)  \n",
        "#Reports parameters for each batch (total 1096) for each epoch.\n",
        "#For 10 epochs we should see 10960\n",
        "\n",
        "stop1 = datetime.now()       \n",
        "#Execution time of the model \n",
        "execution_time = stop1-start1                \n",
        "print(\"Execution time is: \", execution_time)"
      ],
      "metadata": {
        "colab": {
          "base_uri": "https://localhost:8080/"
        },
        "id": "Qnj8rmTvXC5I",
        "outputId": "23778a3c-99e6-4cfd-d6a5-20452f6c5848"
      },
      "execution_count": 77,
      "outputs": [
        {
          "output_type": "stream",
          "name": "stdout",
          "text": [
            "1/1 [==============================] - 1s 541ms/step\n",
            ">1, d1[0.575] d2[2.053] g[80.873]\n",
            "1/1 [==============================] - 0s 22ms/step\n",
            ">2, d1[0.896] d2[1.977] g[62.978]\n",
            "1/1 [==============================] - 0s 21ms/step\n",
            ">3, d1[0.718] d2[1.949] g[50.324]\n",
            "1/1 [==============================] - 0s 24ms/step\n",
            ">4, d1[0.860] d2[0.885] g[37.293]\n",
            "1/1 [==============================] - 0s 21ms/step\n",
            ">5, d1[0.450] d2[0.526] g[27.413]\n",
            "1/1 [==============================] - 0s 23ms/step\n",
            ">6, d1[0.349] d2[0.539] g[21.886]\n",
            "1/1 [==============================] - 0s 23ms/step\n",
            ">7, d1[0.511] d2[0.377] g[23.071]\n",
            "1/1 [==============================] - 0s 24ms/step\n",
            ">8, d1[0.439] d2[0.502] g[11.779]\n",
            "1/1 [==============================] - 0s 21ms/step\n",
            ">9, d1[0.369] d2[0.638] g[8.080]\n",
            "1/1 [==============================] - 0s 23ms/step\n",
            ">10, d1[0.449] d2[0.491] g[6.689]\n",
            "1/1 [==============================] - 0s 22ms/step\n",
            ">11, d1[0.488] d2[0.479] g[16.362]\n",
            "1/1 [==============================] - 0s 21ms/step\n",
            ">12, d1[0.541] d2[0.491] g[7.994]\n",
            "1/1 [==============================] - 0s 25ms/step\n",
            ">13, d1[0.447] d2[0.524] g[5.953]\n",
            "1/1 [==============================] - 0s 23ms/step\n",
            ">14, d1[0.476] d2[0.438] g[5.724]\n",
            "1/1 [==============================] - 0s 22ms/step\n",
            ">15, d1[0.456] d2[0.463] g[5.145]\n",
            "1/1 [==============================] - 0s 22ms/step\n",
            ">16, d1[0.446] d2[0.487] g[5.179]\n",
            "1/1 [==============================] - 0s 21ms/step\n",
            ">17, d1[0.514] d2[0.417] g[15.002]\n",
            "1/1 [==============================] - 0s 24ms/step\n",
            ">18, d1[0.475] d2[0.470] g[8.066]\n",
            "1/1 [==============================] - 0s 22ms/step\n",
            ">19, d1[0.415] d2[0.478] g[6.822]\n",
            "1/1 [==============================] - 0s 27ms/step\n",
            ">20, d1[0.389] d2[0.470] g[5.607]\n",
            "1/1 [==============================] - 0s 22ms/step\n"
          ]
        },
        {
          "output_type": "stream",
          "name": "stderr",
          "text": [
            "WARNING:tensorflow:Compiled the loaded model, but the compiled metrics have yet to be built. `model.compile_metrics` will be empty until you train or evaluate the model.\n"
          ]
        },
        {
          "output_type": "stream",
          "name": "stdout",
          "text": [
            ">Saved: plot_000020.png and model_000020.h5\n",
            "1/1 [==============================] - 0s 26ms/step\n",
            ">21, d1[0.425] d2[0.467] g[5.625]\n",
            "1/1 [==============================] - 0s 21ms/step\n",
            ">22, d1[0.424] d2[0.453] g[4.696]\n",
            "1/1 [==============================] - 0s 21ms/step\n",
            ">23, d1[0.431] d2[0.480] g[5.058]\n",
            "1/1 [==============================] - 0s 23ms/step\n",
            ">24, d1[0.454] d2[0.432] g[4.591]\n",
            "1/1 [==============================] - 0s 20ms/step\n",
            ">25, d1[0.443] d2[0.454] g[4.301]\n",
            "1/1 [==============================] - 0s 21ms/step\n",
            ">26, d1[0.557] d2[0.432] g[14.671]\n",
            "1/1 [==============================] - 0s 21ms/step\n",
            ">27, d1[0.459] d2[0.425] g[12.616]\n",
            "1/1 [==============================] - 0s 23ms/step\n",
            ">28, d1[0.419] d2[0.493] g[9.008]\n",
            "1/1 [==============================] - 0s 22ms/step\n",
            ">29, d1[0.483] d2[0.398] g[12.119]\n",
            "1/1 [==============================] - 0s 23ms/step\n",
            ">30, d1[0.441] d2[0.485] g[7.467]\n",
            "1/1 [==============================] - 0s 22ms/step\n",
            ">31, d1[0.383] d2[0.488] g[12.275]\n",
            "1/1 [==============================] - 0s 30ms/step\n",
            ">32, d1[0.351] d2[0.489] g[6.734]\n",
            "1/1 [==============================] - 0s 20ms/step\n",
            ">33, d1[0.504] d2[0.351] g[11.177]\n",
            "1/1 [==============================] - 0s 20ms/step\n",
            ">34, d1[0.405] d2[0.383] g[10.278]\n",
            "1/1 [==============================] - 0s 21ms/step\n",
            ">35, d1[0.354] d2[0.408] g[9.532]\n",
            "1/1 [==============================] - 0s 22ms/step\n",
            ">36, d1[0.509] d2[0.581] g[8.098]\n",
            "1/1 [==============================] - 0s 22ms/step\n",
            ">37, d1[0.498] d2[0.450] g[11.592]\n",
            "1/1 [==============================] - 0s 21ms/step\n",
            ">38, d1[0.493] d2[0.421] g[10.085]\n",
            "1/1 [==============================] - 0s 21ms/step\n",
            ">39, d1[0.455] d2[0.447] g[8.630]\n",
            "1/1 [==============================] - 0s 21ms/step\n",
            ">40, d1[0.399] d2[0.536] g[7.399]\n",
            "1/1 [==============================] - 0s 29ms/step\n"
          ]
        },
        {
          "output_type": "stream",
          "name": "stderr",
          "text": [
            "WARNING:tensorflow:Compiled the loaded model, but the compiled metrics have yet to be built. `model.compile_metrics` will be empty until you train or evaluate the model.\n"
          ]
        },
        {
          "output_type": "stream",
          "name": "stdout",
          "text": [
            ">Saved: plot_000040.png and model_000040.h5\n",
            "1/1 [==============================] - 0s 24ms/step\n",
            ">41, d1[0.431] d2[0.495] g[4.945]\n",
            "1/1 [==============================] - 0s 21ms/step\n",
            ">42, d1[0.476] d2[0.357] g[10.690]\n",
            "1/1 [==============================] - 0s 21ms/step\n",
            ">43, d1[0.395] d2[0.367] g[9.790]\n",
            "1/1 [==============================] - 0s 37ms/step\n",
            ">44, d1[0.359] d2[0.344] g[8.983]\n",
            "1/1 [==============================] - 0s 32ms/step\n",
            ">45, d1[0.470] d2[0.503] g[9.412]\n",
            "1/1 [==============================] - 0s 45ms/step\n",
            ">46, d1[0.382] d2[0.384] g[11.388]\n",
            "1/1 [==============================] - 0s 30ms/step\n",
            ">47, d1[0.454] d2[0.534] g[8.282]\n",
            "1/1 [==============================] - 0s 37ms/step\n",
            ">48, d1[0.281] d2[0.395] g[9.910]\n",
            "1/1 [==============================] - 0s 35ms/step\n",
            ">49, d1[0.283] d2[0.281] g[9.343]\n",
            "1/1 [==============================] - 0s 43ms/step\n",
            ">50, d1[0.457] d2[0.568] g[8.822]\n",
            "1/1 [==============================] - 0s 24ms/step\n",
            ">51, d1[0.349] d2[0.336] g[11.182]\n",
            "1/1 [==============================] - 0s 21ms/step\n",
            ">52, d1[0.312] d2[0.253] g[8.734]\n",
            "1/1 [==============================] - 0s 24ms/step\n",
            ">53, d1[0.234] d2[0.231] g[9.062]\n",
            "1/1 [==============================] - 0s 23ms/step\n",
            ">54, d1[0.236] d2[0.171] g[8.493]\n",
            "1/1 [==============================] - 0s 22ms/step\n",
            ">55, d1[0.613] d2[0.639] g[6.909]\n",
            "1/1 [==============================] - 0s 25ms/step\n",
            ">56, d1[0.477] d2[0.631] g[5.875]\n",
            "1/1 [==============================] - 0s 22ms/step\n",
            ">57, d1[0.334] d2[0.341] g[10.480]\n",
            "1/1 [==============================] - 0s 23ms/step\n",
            ">58, d1[0.511] d2[0.416] g[6.021]\n",
            "1/1 [==============================] - 0s 22ms/step\n",
            ">59, d1[0.400] d2[0.597] g[7.303]\n",
            "1/1 [==============================] - 0s 21ms/step\n",
            ">60, d1[0.455] d2[0.385] g[5.578]\n",
            "1/1 [==============================] - 0s 26ms/step\n"
          ]
        },
        {
          "output_type": "stream",
          "name": "stderr",
          "text": [
            "WARNING:tensorflow:Compiled the loaded model, but the compiled metrics have yet to be built. `model.compile_metrics` will be empty until you train or evaluate the model.\n"
          ]
        },
        {
          "output_type": "stream",
          "name": "stdout",
          "text": [
            ">Saved: plot_000060.png and model_000060.h5\n",
            "1/1 [==============================] - 0s 29ms/step\n",
            ">61, d1[0.326] d2[0.201] g[9.399]\n",
            "1/1 [==============================] - 0s 22ms/step\n",
            ">62, d1[0.433] d2[0.531] g[5.888]\n",
            "1/1 [==============================] - 0s 24ms/step\n",
            ">63, d1[0.158] d2[0.170] g[9.835]\n",
            "1/1 [==============================] - 0s 24ms/step\n",
            ">64, d1[0.158] d2[0.103] g[9.172]\n",
            "1/1 [==============================] - 0s 31ms/step\n",
            ">65, d1[0.582] d2[0.590] g[5.538]\n",
            "1/1 [==============================] - 0s 22ms/step\n",
            ">66, d1[0.124] d2[0.124] g[9.031]\n",
            "1/1 [==============================] - 0s 28ms/step\n",
            ">67, d1[0.133] d2[0.087] g[8.944]\n",
            "1/1 [==============================] - 0s 24ms/step\n",
            ">68, d1[0.624] d2[0.535] g[5.633]\n",
            "1/1 [==============================] - 0s 21ms/step\n",
            ">69, d1[0.368] d2[0.598] g[4.935]\n",
            "1/1 [==============================] - 0s 23ms/step\n",
            ">70, d1[0.133] d2[0.183] g[9.379]\n",
            "1/1 [==============================] - 0s 22ms/step\n",
            ">71, d1[0.640] d2[0.443] g[5.468]\n",
            "1/1 [==============================] - 0s 25ms/step\n",
            ">72, d1[0.422] d2[0.515] g[5.781]\n",
            "1/1 [==============================] - 0s 33ms/step\n",
            ">73, d1[0.141] d2[0.121] g[9.072]\n",
            "1/1 [==============================] - 0s 37ms/step\n",
            ">74, d1[0.108] d2[0.083] g[9.155]\n",
            "1/1 [==============================] - 0s 31ms/step\n",
            ">75, d1[0.571] d2[0.499] g[4.737]\n",
            "1/1 [==============================] - 0s 45ms/step\n",
            ">76, d1[0.412] d2[0.505] g[5.086]\n",
            "1/1 [==============================] - 0s 37ms/step\n",
            ">77, d1[0.424] d2[0.458] g[3.968]\n",
            "1/1 [==============================] - 0s 37ms/step\n",
            ">78, d1[0.449] d2[0.418] g[3.714]\n",
            "1/1 [==============================] - 0s 31ms/step\n",
            ">79, d1[0.091] d2[0.096] g[9.960]\n",
            "1/1 [==============================] - 0s 21ms/step\n",
            ">80, d1[0.078] d2[0.054] g[9.463]\n",
            "1/1 [==============================] - 0s 22ms/step\n"
          ]
        },
        {
          "output_type": "stream",
          "name": "stderr",
          "text": [
            "WARNING:tensorflow:Compiled the loaded model, but the compiled metrics have yet to be built. `model.compile_metrics` will be empty until you train or evaluate the model.\n"
          ]
        },
        {
          "output_type": "stream",
          "name": "stdout",
          "text": [
            ">Saved: plot_000080.png and model_000080.h5\n",
            "1/1 [==============================] - 0s 26ms/step\n",
            ">81, d1[0.066] d2[0.043] g[9.095]\n",
            "1/1 [==============================] - 0s 22ms/step\n",
            ">82, d1[0.056] d2[0.039] g[9.061]\n",
            "1/1 [==============================] - 0s 21ms/step\n",
            ">83, d1[0.667] d2[0.460] g[4.313]\n",
            "1/1 [==============================] - 0s 20ms/step\n",
            ">84, d1[0.396] d2[0.473] g[4.977]\n",
            "1/1 [==============================] - 0s 22ms/step\n",
            ">85, d1[0.431] d2[0.527] g[6.357]\n",
            "1/1 [==============================] - 0s 21ms/step\n",
            ">86, d1[0.106] d2[0.101] g[10.054]\n",
            "1/1 [==============================] - 0s 21ms/step\n",
            ">87, d1[0.602] d2[0.432] g[5.887]\n",
            "1/1 [==============================] - 0s 21ms/step\n",
            ">88, d1[0.052] d2[0.101] g[9.340]\n",
            "1/1 [==============================] - 0s 22ms/step\n",
            ">89, d1[0.568] d2[0.448] g[5.267]\n",
            "1/1 [==============================] - 0s 21ms/step\n",
            ">90, d1[0.410] d2[0.487] g[4.002]\n",
            "1/1 [==============================] - 0s 24ms/step\n",
            ">91, d1[0.433] d2[0.435] g[4.613]\n",
            "1/1 [==============================] - 0s 32ms/step\n",
            ">92, d1[0.427] d2[0.441] g[4.959]\n",
            "1/1 [==============================] - 0s 35ms/step\n",
            ">93, d1[0.051] d2[0.077] g[9.360]\n",
            "1/1 [==============================] - 0s 29ms/step\n",
            ">94, d1[0.055] d2[0.042] g[9.443]\n",
            "1/1 [==============================] - 0s 35ms/step\n",
            ">95, d1[0.654] d2[0.443] g[4.971]\n",
            "1/1 [==============================] - 0s 38ms/step\n",
            ">96, d1[0.037] d2[0.147] g[9.833]\n",
            "1/1 [==============================] - 0s 33ms/step\n",
            ">97, d1[0.580] d2[0.465] g[4.856]\n",
            "1/1 [==============================] - 0s 35ms/step\n",
            ">98, d1[0.449] d2[0.443] g[4.350]\n",
            "1/1 [==============================] - 0s 39ms/step\n",
            ">99, d1[0.075] d2[0.084] g[8.746]\n",
            "1/1 [==============================] - 0s 29ms/step\n",
            ">100, d1[0.060] d2[0.059] g[8.988]\n",
            "1/1 [==============================] - 0s 21ms/step\n"
          ]
        },
        {
          "output_type": "stream",
          "name": "stderr",
          "text": [
            "WARNING:tensorflow:Compiled the loaded model, but the compiled metrics have yet to be built. `model.compile_metrics` will be empty until you train or evaluate the model.\n"
          ]
        },
        {
          "output_type": "stream",
          "name": "stdout",
          "text": [
            ">Saved: plot_000100.png and model_000100.h5\n",
            "Execution time is:  0:00:39.396293\n"
          ]
        }
      ]
    },
    {
      "cell_type": "code",
      "source": [
        "from keras.models import load_model  \n",
        "from numpy.random import randint  \n",
        "model = load_model('model_000100.h5')  "
      ],
      "metadata": {
        "colab": {
          "base_uri": "https://localhost:8080/"
        },
        "id": "cwHStZi7gli3",
        "outputId": "cece32d2-aa80-4ca2-9846-d30abd3f9260"
      },
      "execution_count": 78,
      "outputs": [
        {
          "output_type": "stream",
          "name": "stderr",
          "text": [
            "WARNING:tensorflow:No training configuration found in the save file, so the model was *not* compiled. Compile it manually.\n"
          ]
        }
      ]
    },
    {
      "cell_type": "code",
      "source": [
        "def plot_images(src_img, gen_img, tar_img):\n",
        "\timages = vstack((src_img, gen_img, tar_img))\n",
        "\t# scale from [-1,1] to [0,1]\n",
        "\timages = (images + 1) / 2.0\n",
        "\ttitles = ['Source', 'Generated', 'Expected']\n",
        "\t# plot images row by row\n",
        "\tfor i in range(len(images)):\n",
        "\t\t# define subplot\n",
        "\t\tpyplot.subplot(1, 3, 1 + i)\n",
        "\t\t# turn off axis\n",
        "\t\tpyplot.axis('off')\n",
        "\t\t# plot raw pixel data\n",
        "\t\tpyplot.imshow(images[i])\n",
        "\t\t# show title\n",
        "\t\tpyplot.title(titles[i])\n",
        "\t\t#if (titles[i] == 'Generated'):\n",
        "\t\t#\tpyplot.savefig('/content/Images/Output/out.png')\n",
        "\tpyplot.show()"
      ],
      "metadata": {
        "id": "ll462d0KfqKD"
      },
      "execution_count": 94,
      "outputs": []
    },
    {
      "cell_type": "code",
      "source": [
        "[X1, X2] = dataset\n",
        "# select random example\n",
        "ix = randint(0, len(X1), 1)\n",
        "src_image, tar_image = X1[ix], X2[ix]\n",
        "# generate image from source\n",
        "gen_image = model.predict(src_image)\n",
        "\n",
        "# plot all three images\n",
        "plot_images(src_image, gen_image, tar_image)\n",
        "gen_image = (gen_image + 1)/2\n",
        "pyplot.imshow(gen_image[0,:,:,:])\n",
        "pyplot.axis('off')\n",
        "pyplot.savefig('/content/Images/Output/out2.png')\n",
        "pyplot.close()"
      ],
      "metadata": {
        "id": "s9g8DZEufcU0",
        "colab": {
          "base_uri": "https://localhost:8080/",
          "height": 162
        },
        "outputId": "4dc3a2e9-ad9d-4432-aff7-6f861112eeb6"
      },
      "execution_count": 107,
      "outputs": [
        {
          "output_type": "stream",
          "name": "stdout",
          "text": [
            "1/1 [==============================] - 0s 21ms/step\n"
          ]
        },
        {
          "output_type": "display_data",
          "data": {
            "text/plain": [
              "<Figure size 432x288 with 3 Axes>"
            ],
            "image/png": "[encoded data removed]"
          },
          "metadata": {
            "needs_background": "light"
          }
        }
      ]
    },
    {
      "cell_type": "code",
      "source": [],
      "metadata": {
        "id": "bnEGJ36u-MKt"
      },
      "execution_count": null,
      "outputs": []
    }
  ]
}